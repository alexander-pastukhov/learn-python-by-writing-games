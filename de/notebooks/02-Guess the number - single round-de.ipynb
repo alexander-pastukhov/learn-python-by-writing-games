{
 "cells": [
  {
   "cell_type": "markdown",
   "metadata": {},
   "source": [
    "# Rate die Zahl: die Ein-Runden-Edition"
   ]
  },
  {
   "cell_type": "markdown",
   "metadata": {},
   "source": [
    "Verwende diese Zelle, um deinen Code für das Programm „code01.py“ zu testen."
   ]
  },
  {
   "cell_type": "code",
   "execution_count": null,
   "metadata": {},
   "outputs": [],
   "source": []
  },
  {
   "cell_type": "markdown",
   "metadata": {},
   "source": [
    "Verwende diese Zelle, um den Aufruf der Funktionen `print()` und `float()` mit einer unterschiedlichen Anzahl von Parametern (Eingaben) zu testen."
   ]
  },
  {
   "cell_type": "code",
   "execution_count": null,
   "metadata": {},
   "outputs": [],
   "source": []
  },
  {
   "cell_type": "markdown",
   "metadata": {},
   "source": [
    "### Übung 01\n",
    "Was wäre das Ergebnis (`True` oder `False`) für jeden Vergleich? Schreibe Antworts auf, bevor du die Zelle auswertest."
   ]
  },
  {
   "cell_type": "markdown",
   "metadata": {},
   "source": [
    "**Antwort #1:**"
   ]
  },
  {
   "cell_type": "code",
   "execution_count": null,
   "metadata": {},
   "outputs": [],
   "source": [
    "-1 != 2 - 3"
   ]
  },
  {
   "cell_type": "markdown",
   "metadata": {},
   "source": [
    "**Antwort #2:**"
   ]
  },
  {
   "cell_type": "code",
   "execution_count": null,
   "metadata": {},
   "outputs": [],
   "source": [
    "-1 >= 2 - 4"
   ]
  },
  {
   "cell_type": "markdown",
   "metadata": {},
   "source": [
    "**Antwort #3:**"
   ]
  },
  {
   "cell_type": "code",
   "execution_count": null,
   "metadata": {},
   "outputs": [],
   "source": [
    "-100 == -1e2"
   ]
  },
  {
   "cell_type": "markdown",
   "metadata": {},
   "source": [
    "### Übung 02\n",
    "Schreib einen Vergleich, dass \"a kleiner ist als b\", ohne `>` oder `<` zu verwenden. Du kannst die Operatoren `==`, `!=`, `<=`, `=>` und `not` verwenden. Teste, dass es für alle Fälle funktioniert, z.B. auch für \"a = 3 vs b = 3\" und \"a = 3 vs b = 4\"."
   ]
  },
  {
   "cell_type": "code",
   "execution_count": null,
   "metadata": {},
   "outputs": [],
   "source": []
  },
  {
   "cell_type": "markdown",
   "metadata": {},
   "source": [
    "### Übung 03\n",
    "Schreibe einen Vergleich „a ist größer als b“ unter Verwendung von `und`/`oder`, aber ohne `>`, `<` oder `not` Operatoren. Teste, dass es für alle Fälle funktioniert, z.B. auch für \"a = 3 vs b = 3\" und \"a = 3 vs b = 4\".\n"
   ]
  },
  {
   "cell_type": "code",
   "execution_count": null,
   "metadata": {},
   "outputs": [],
   "source": []
  },
  {
   "cell_type": "markdown",
   "metadata": {},
   "source": [
    "### Übung 04\n",
    "Benutze die Operatoren „und“ oder „oder“, um die Bedingung „A ist eine positive Zahl unter 10“ zu schreiben."
   ]
  },
  {
   "cell_type": "code",
   "execution_count": null,
   "metadata": {},
   "outputs": [],
   "source": []
  },
  {
   "cell_type": "markdown",
   "metadata": {},
   "source": [
    "### Übung 05\n",
    "Wird ein Ausdruck einen gültigen logischen Wert oder einen Fehler erzeugen?"
   ]
  },
  {
   "cell_type": "markdown",
   "metadata": {},
   "source": [
    "**Antwort #1:**"
   ]
  },
  {
   "cell_type": "code",
   "execution_count": null,
   "metadata": {},
   "outputs": [],
   "source": [
    "False and 2 / 0"
   ]
  },
  {
   "cell_type": "markdown",
   "metadata": {},
   "source": [
    "**Antwort #2:**"
   ]
  },
  {
   "cell_type": "code",
   "execution_count": null,
   "metadata": {},
   "outputs": [],
   "source": [
    "False or 10 / 0"
   ]
  },
  {
   "cell_type": "markdown",
   "metadata": {},
   "source": [
    "**Antwort #3:**"
   ]
  },
  {
   "cell_type": "code",
   "execution_count": null,
   "metadata": {},
   "outputs": [],
   "source": [
    "False or True or -1/0"
   ]
  },
  {
   "cell_type": "markdown",
   "metadata": {},
   "source": [
    "### Übung 06\n",
    "Werte jeden Ausdruck aus und stelle fest, ob er `True` oder `False` ist. Schreibe die Antworten auf, bevor du die Zelle ausführst."
   ]
  },
  {
   "cell_type": "markdown",
   "metadata": {},
   "source": [
    "**Antwort:**\n",
    "1. -\n",
    "2. -\n",
    "3. -\n",
    "4. -"
   ]
  },
  {
   "cell_type": "code",
   "execution_count": null,
   "metadata": {},
   "outputs": [],
   "source": [
    "x = 2\n",
    "y = -10\n",
    "z = 4\n",
    "\n",
    "# 1\n",
    "print('#1: ', x <  10 or (x > 0 and y < 0))\n",
    "\n",
    "# 2\n",
    "print('#2: ', x > 10 or (x > 1 and y > -20))\n",
    "\n",
    "# 3\n",
    "print('#3: ', (x > 1 and y > -5) or y > z)\n",
    "\n",
    "#4\n",
    "print('#4: ', x > 1 or y > -5 or y > z)"
   ]
  },
  {
   "cell_type": "markdown",
   "metadata": {},
   "source": [
    "### Übung 07\n",
    "Welche Zahlen werden gedruckt? Schreibe deine Antwort auf, bevor du die Zelle ausführst."
   ]
  },
  {
   "cell_type": "markdown",
   "metadata": {},
   "source": [
    "**Antwort:**"
   ]
  },
  {
   "cell_type": "code",
   "execution_count": null,
   "metadata": {},
   "outputs": [],
   "source": [
    "print(1)\n",
    "if 2 > 3:\n",
    "    print(2)\n",
    "else:\n",
    "    print(3)\n",
    "    if 8 * 6 == 48:\n",
    "        print(4)\n",
    "    elif 2 * 12 >= 24:\n",
    "        print(5)\n",
    "        \n",
    "        if 7 < 3:\n",
    "            print(6)\n",
    "        print(7)\n",
    "    print(8)\n",
    "print(9)        "
   ]
  },
  {
   "cell_type": "markdown",
   "metadata": {},
   "source": [
    "### Übung 08\n",
    "Was wird gedruckt?"
   ]
  },
  {
   "cell_type": "markdown",
   "metadata": {},
   "source": [
    "**Antwort:**"
   ]
  },
  {
   "cell_type": "code",
   "execution_count": null,
   "metadata": {},
   "outputs": [],
   "source": [
    "if 2 * 2 == 5:\n",
    "    print(\"Tricky question!\")\n",
    "elif 3 * 3 == 9:\n",
    "    print(\"You are trying to confuse me!\")\n",
    "elif 2 * 2 == 4:\n",
    "    print(\"Now, I am really lost!\")\n",
    "else:\n",
    "    print(\"I don't know!\")"
   ]
  }
 ],
 "metadata": {
  "kernelspec": {
   "display_name": "Python 3 (ipykernel)",
   "language": "python",
   "name": "python3"
  },
  "language_info": {
   "codemirror_mode": {
    "name": "ipython",
    "version": 3
   },
   "file_extension": ".py",
   "mimetype": "text/x-python",
   "name": "python",
   "nbconvert_exporter": "python",
   "pygments_lexer": "ipython3",
   "version": "3.12.2"
  }
 },
 "nbformat": 4,
 "nbformat_minor": 4
}
